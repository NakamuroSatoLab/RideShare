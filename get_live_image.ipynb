{
 "cells": [
  {
   "cell_type": "code",
   "execution_count": 1,
   "id": "2aedbdd8-eaa4-4be7-9e1a-2cafbfa6dd96",
   "metadata": {},
   "outputs": [],
   "source": [
    "from pytube import YouTube\n",
    "import cv2\n",
    "import ffmpeg\n",
    "import numpy as np\n",
    "import os"
   ]
  },
  {
   "cell_type": "code",
   "execution_count": null,
   "id": "b2d52e44-411e-4160-b14e-ab92c953e05a",
   "metadata": {},
   "outputs": [],
   "source": [
    "streams = YouTube(\n",
    "    \"Youtube URL\"\n",
    ").streams\n",
    "\n",
    "for stream in streams:\n",
    "    print(stream)"
   ]
  }
 ],
 "metadata": {
  "kernelspec": {
   "display_name": "base",
   "language": "python",
   "name": "python3"
  },
  "language_info": {
   "codemirror_mode": {
    "name": "ipython",
    "version": 3
   },
   "file_extension": ".py",
   "mimetype": "text/x-python",
   "name": "python",
   "nbconvert_exporter": "python",
   "pygments_lexer": "ipython3",
   "version": "3.9.13"
  }
 },
 "nbformat": 4,
 "nbformat_minor": 5
}
